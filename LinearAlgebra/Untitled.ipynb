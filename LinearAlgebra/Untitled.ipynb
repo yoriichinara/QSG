{
 "cells": [
  {
   "cell_type": "code",
   "execution_count": 4,
   "id": "2d3e3933-095b-4a02-a446-bf81be959d88",
   "metadata": {},
   "outputs": [],
   "source": [
    "using LinearAlgebra, Polynomials "
   ]
  },
  {
   "cell_type": "code",
   "execution_count": 21,
   "id": "64bd224a-f8b0-41d8-ac11-e8fbe31dcc92",
   "metadata": {},
   "outputs": [
    {
     "data": {
      "text/plain": [
       "6×4 Matrix{Float64}:\n",
       "  0.0          0.0  0.0  1.0\n",
       "  0.0          0.0  1.0  0.0\n",
       "  0.0          1.0  0.0  0.0\n",
       " -1.0          0.0  0.0  0.0\n",
       " -1.11022e-16  0.0  0.0  0.0\n",
       "  5.55112e-17  0.0  0.0  0.0"
      ]
     },
     "execution_count": 21,
     "metadata": {},
     "output_type": "execute_result"
    }
   ],
   "source": [
    "A = [-1 6 0 0 0 0;\n",
    "    -3 5 0 0 0 0;\n",
    "    0 0 5 -6 0 1;\n",
    "    1 0 3 -1 1 0;\n",
    "    0 0 0 0 2 -1;\n",
    "    0 0 0 0 0 2]\n",
    "\n",
    "nullspace((A^2-4*A+13*I)^2)"
   ]
  },
  {
   "cell_type": "code",
   "execution_count": null,
   "id": "2f766993-708e-48f0-8400-e141ddf67081",
   "metadata": {},
   "outputs": [],
   "source": []
  }
 ],
 "metadata": {
  "kernelspec": {
   "display_name": "Julia 1.10.9",
   "language": "julia",
   "name": "julia-1.10"
  },
  "language_info": {
   "file_extension": ".jl",
   "mimetype": "application/julia",
   "name": "julia",
   "version": "1.10.9"
  }
 },
 "nbformat": 4,
 "nbformat_minor": 5
}
